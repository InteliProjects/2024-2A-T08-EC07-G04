{
 "cells": [
  {
   "cell_type": "markdown",
   "metadata": {},
   "source": [
    "# Análise Exploratória Geral\n",
    "## Carregamento das tabelas"
   ]
  },
  {
   "cell_type": "code",
   "execution_count": null,
   "metadata": {
    "vscode": {
     "languageId": "plaintext"
    }
   },
   "outputs": [],
   "source": [
    "# Importa biblioteca pandas\n",
    "\n",
    "import pandas as pd\n",
    "\n",
    "# Carregamento das tabelas\n",
    "\n",
    "# Tabelas de Resultados\n",
    "resultados_02 = pd.read_excel('C:\\Users\\Inteli\\Documents\\m07g04\\2024-2A-T08-EC07-G04\\src\\data\\RESULTADOS_02_03_2024.xlsx')\n",
    "resultados_04 = pd.read_excel('C:\\Users\\Inteli\\Documents\\m07g04\\2024-2A-T08-EC07-G04\\src\\data\\RESULTADOS_04_06_2024.xlsx')\n",
    "resultados_06 = pd.read_excel('C:\\Users\\Inteli\\Documents\\m07g04\\2024-2A-T08-EC07-G04\\src\\data\\RESULTADOS_06_2023_07_2023.xlsx')\n",
    "resultados_08 = pd.read_excel('C:\\Users\\Inteli\\Documents\\m07g04\\2024-2A-T08-EC07-G04\\src\\data\\RESULTADOS_08_2023_09_2023.xlsx')\n",
    "resultados_10 = pd.read_excel('C:\\Users\\Inteli\\Documents\\m07g04\\2024-2A-T08-EC07-G04\\src\\data\\RESULTADOS_10_2023_11_2023.xlsx')\n",
    "resultados_12 = pd.read_excel('C:\\Users\\Inteli\\Documents\\m07g04\\2024-2A-T08-EC07-G04\\src\\data\\RESULTADOS_12_2023_01_2024.xlsx')\n",
    "\n",
    "# Tabelas de Falhas\n",
    "falhas_04 = pd.read_excel('C:\\Users\\Inteli\\Documents\\m07g04\\2024-2A-T08-EC07-G04\\src\\data\\FALHAS_04_05_06_2024.xlsx - Relatório 1.csv')\n",
    "falahas_predict = pd.read_excel('C:\\Users\\Inteli\\Documents\\m07g04\\2024-2A-T08-EC07-G04\\src\\data\\FALHAS_PREDICT.xlsx')\n",
    "\n",
    "# Tabela do Status da Predição\n",
    "status_predictor = pd.read_excel('C:\\Users\\Inteli\\Documents\\m07g04\\2024-2A-T08-EC07-G04\\src\\data\\STATUS_PREDICTOR_ANO.xlsx')\n"
   ]
  }
 ],
 "metadata": {
  "language_info": {
   "name": "python"
  }
 },
 "nbformat": 4,
 "nbformat_minor": 2
}
