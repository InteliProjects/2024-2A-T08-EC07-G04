{
 "cells": [
  {
   "cell_type": "code",
   "execution_count": null,
   "metadata": {},
   "outputs": [],
   "source": [
    "import pandas as pd\n",
    "import numpy as np\n",
    "import seaborn as sns\n",
    "import matplotlib.pyplot as plt\n",
    "import torch\n",
    "from torch.utils.data import Dataset, DataLoader\n",
    "from sklearn.model_selection import train_test_split\n",
    "from sklearn.preprocessing import LabelEncoder, StandardScaler\n",
    "import tensorflow as tf\n",
    "from tensorflow.keras.models import Sequential\n",
    "from tensorflow.keras.layers import Dense, Dropout\n",
    "from sklearn.metrics import confusion_matrix, classification_report, recall_score"
   ]
  },
  {
   "cell_type": "code",
   "execution_count": 2,
   "metadata": {},
   "outputs": [],
   "source": [
    "df_resultados = pd.read_csv('RESULTADOS_04_06_2024_full_teste.csv', compression='gzip')\n",
    "df_resultados2 = pd.read_csv('RESULTADOS_02_03_2024_full_teste.csv', compression='gzip')\n",
    "df_resultados3 = pd.read_csv('RESULTADOS_06_2023_07_2023_full_teste.csv' ,compression='gzip')"
   ]
  },
  {
   "cell_type": "code",
   "execution_count": 3,
   "metadata": {},
   "outputs": [],
   "source": [
    "# Remover coluna errada\n",
    "df_resultados = df_resultados.drop(columns=['Unnamed: 0'], axis=1)\n",
    "df_resultados2 = df_resultados2.drop(columns=['Unnamed: 0'], axis=1)\n",
    "df_resultados3 = df_resultados3.drop(columns=['Unnamed: 0'], axis=1)\n"
   ]
  },
  {
   "cell_type": "code",
   "execution_count": 4,
   "metadata": {},
   "outputs": [],
   "source": [
    "df_resultados = df_resultados.dropna()\n",
    "df_resultados2 = df_resultados2.dropna()\n",
    "df_resultados3 = df_resultados3.dropna()"
   ]
  },
  {
   "cell_type": "code",
   "execution_count": 5,
   "metadata": {},
   "outputs": [],
   "source": [
    "# Transformando para .parquet para uma manipulação mais rápida dos dados\n",
    "\n",
    "df_resultados.to_parquet('df_resultados.parquet', index=False)\n",
    "df_resultados2.to_parquet('df_resultados2.parquet', index=False)\n",
    "df_resultados3.to_parquet('df_resultados3.parquet', index=False)"
   ]
  },
  {
   "cell_type": "code",
   "execution_count": 6,
   "metadata": {},
   "outputs": [],
   "source": [
    "# Limpando colunas que não serão usadas agora\n",
    "\n",
    "colunas = ['DATA']\n",
    "\n",
    "df_resultados2 = df_resultados2.drop(columns=colunas, axis=1)\n",
    "df_resultados = df_resultados.drop(columns=colunas, axis=1)\n",
    "df_resultados3 = df_resultados3.drop(columns=colunas, axis=1)"
   ]
  },
  {
   "cell_type": "code",
   "execution_count": 7,
   "metadata": {},
   "outputs": [],
   "source": [
    "# Transformando os DFs de resultados em apenas um DF de resultados maior\n",
    "\n",
    "df = pd.concat([df_resultados, df_resultados2, df_resultados3])"
   ]
  },
  {
   "cell_type": "code",
   "execution_count": null,
   "metadata": {},
   "outputs": [],
   "source": [
    "df.head()"
   ]
  },
  {
   "cell_type": "code",
   "execution_count": null,
   "metadata": {},
   "outputs": [],
   "source": [
    "df.info()"
   ]
  },
  {
   "cell_type": "code",
   "execution_count": null,
   "metadata": {},
   "outputs": [],
   "source": [
    "df['UNIT'].unique()"
   ]
  },
  {
   "cell_type": "code",
   "execution_count": 11,
   "metadata": {},
   "outputs": [],
   "source": [
    "# Garantir que 'VALUE' seja convertido para tipo numérico, forçando erros (por exemplo, entradas não numéricas se tornam NaN)\n",
    "df['VALUE'] = pd.to_numeric(df['VALUE'], errors='coerce')\n",
    "\n",
    "# Garantir que 'KNR', 'NAME' e 'UNIT' sejam strings (object está ok, mas explicitamente convertendo para string para maior clareza)\n",
    "df['KNR'] = df['KNR'].astype(str)\n",
    "df['NAME'] = df['NAME'].astype(str)\n",
    "df['UNIT'] = df['UNIT'].astype(str)\n",
    "\n",
    "# Garantir que 'ID' e 'STATUS' sejam inteiros\n",
    "df['ID'] = df['ID'].astype(int)\n",
    "df['STATUS'] = df['STATUS'].astype(int)\n",
    "\n",
    "# 'VALUE_ID' pode permanecer como float64 ou ser convertido para inteiro se contiver apenas números inteiros\n",
    "if pd.api.types.is_float_dtype(df['VALUE_ID']) and (df['VALUE_ID'] == df['VALUE_ID'].astype(int)).all():\n",
    "    df['VALUE_ID'] = df['VALUE_ID'].astype(int)"
   ]
  },
  {
   "cell_type": "code",
   "execution_count": 12,
   "metadata": {},
   "outputs": [],
   "source": [
    "# Remover linhas onde 'UNIT' está vazio ou é NaN\n",
    "df = df[df['UNIT'].notna() & (df['UNIT'] != '')]\n",
    "\n",
    "# Remover qualquer coluna com o nome 'Unnamed: 5'\n",
    "df = df.drop(columns=[col for col in df.columns if 'Unnamed: 5' in col])\n",
    "\n",
    "# Remover linhas onde 'UNIT' contém '\\u00B0'\n",
    "df = df[~df['UNIT'].str.contains(r'\\\\u00B0', regex=True)]"
   ]
  },
  {
   "cell_type": "code",
   "execution_count": null,
   "metadata": {},
   "outputs": [],
   "source": [
    "# Cálculo original para status_count\n",
    "status_count = df.groupby(['KNR', 'ID', 'STATUS']).size().unstack(fill_value=0)\n",
    "\n",
    "# Pivotar a tabela para criar colunas para cada combinação de ID-STATUS\n",
    "status_count = status_count.unstack(level=-1).fillna(0)\n",
    "\n",
    "# Achatar o MultiIndex das colunas\n",
    "status_count.columns = [f'{int(col[1])}_status_{int(col[0])}' for col in status_count.columns]\n",
    "\n",
    "# Resetar o índice para trazer KNR de volta como uma coluna\n",
    "status_count = status_count.reset_index()\n",
    "\n",
    "# Agrupar por KNR e calcular a contagem de nomes únicos\n",
    "unique_names = df.groupby('KNR').agg(unique_names=('NAME', 'nunique')).reset_index()\n",
    "\n",
    "# Mesclar a contagem de nomes únicos com os status counts\n",
    "resultados_id_status = pd.merge(unique_names, status_count, on='KNR')\n",
    "\n",
    "# Agora calcular a contagem e a média de VALUE por UNIT para cada KNR\n",
    "unit_stats = df.groupby(['KNR', 'UNIT']).agg(\n",
    "    unit_count=('VALUE', 'size'),\n",
    "    unit_mean=('VALUE', 'mean')\n",
    ").reset_index()\n",
    "\n",
    "# Pivotar o resultado para criar colunas para cada UNIT único\n",
    "unit_stats_pivot = unit_stats.pivot(index='KNR', columns='UNIT', values=['unit_count', 'unit_mean']).fillna(0)\n",
    "\n",
    "# Achatar o MultiIndex das colunas\n",
    "unit_stats_pivot.columns = [f'{col[1]}_{col[0]}' for col in unit_stats_pivot.columns]\n",
    "\n",
    "# Resetar o índice para trazer KNR de volta como uma coluna\n",
    "unit_stats_pivot = unit_stats_pivot.reset_index()\n",
    "\n",
    "# Mesclar as estatísticas de unidade com o DataFrame original resultados_id_status\n",
    "final_result = pd.merge(resultados_id_status, unit_stats_pivot, on='KNR')\n",
    "\n",
    "final_result.head()"
   ]
  },
  {
   "cell_type": "code",
   "execution_count": null,
   "metadata": {},
   "outputs": [],
   "source": [
    "final_result.info()"
   ]
  },
  {
   "cell_type": "code",
   "execution_count": null,
   "metadata": {},
   "outputs": [],
   "source": [
    "final_result.head()"
   ]
  },
  {
   "cell_type": "markdown",
   "metadata": {},
   "source": [
    "# FALHAS"
   ]
  },
  {
   "cell_type": "code",
   "execution_count": null,
   "metadata": {},
   "outputs": [],
   "source": [
    "falhas = pd.read_csv('falhas_modelo.csv')"
   ]
  },
  {
   "cell_type": "code",
   "execution_count": null,
   "metadata": {},
   "outputs": [],
   "source": [
    "falhas.head()"
   ]
  },
  {
   "cell_type": "code",
   "execution_count": 18,
   "metadata": {},
   "outputs": [],
   "source": [
    "falhas = falhas.drop(['DATA', 'MODELO', 'COR', 'MOTOR', 'ESTACAO', 'USUARIO', 'FALHA'], axis=1)"
   ]
  },
  {
   "cell_type": "code",
   "execution_count": null,
   "metadata": {},
   "outputs": [],
   "source": [
    "# Primeiro, remove a coluna 'HALLE'\n",
    "falhas = falhas.drop(columns=['HALLE'])\n",
    "\n",
    "# Faz o pivot do DataFrame para criar colunas para cada S_GROUP_ID único\n",
    "falhas_pivot = pd.get_dummies(falhas, columns=['S_GROUP_ID'])\n",
    "\n",
    "# Agrupa por KNR para garantir que os valores de KNR sejam únicos, somando as variáveis dummy\n",
    "falhas_grouped = falhas_pivot.groupby('KNR').sum().reset_index()\n",
    "\n",
    "# Exibe o DataFrame transformado final\n",
    "falhas_grouped\n"
   ]
  },
  {
   "cell_type": "code",
   "execution_count": null,
   "metadata": {},
   "outputs": [],
   "source": [
    "# Realiza o merge com base em KNR, usando 'left' join para manter todas as linhas de resultados_id_status\n",
    "merged_df = pd.merge(final_result, falhas_grouped, on='KNR', how='left')\n",
    "\n",
    "# Preenche as colunas S_GROUP_ID faltantes com 0 onde falhas_grouped não teve KNRs correspondentes\n",
    "merged_df.fillna(0, inplace=True)\n",
    "\n",
    "# Adiciona a coluna FALHA, 1 se KNR estiver em ambos os DataFrames, caso contrário 0\n",
    "merged_df['FALHA'] = merged_df['KNR'].apply(lambda x: 1 if x in falhas_grouped['KNR'].values else 0)\n",
    "\n",
    "# Remove as linhas onde KNR está apenas em falhas_grouped (este passo agora é redundante devido ao 'left' join,\n",
    "# mas pode ser adicionado se necessário para lógica adicional)\n",
    "# merged_df = merged_df[merged_df['KNR'].isin(resultados_id_status['KNR'])]\n",
    "\n",
    "# Exibe o DataFrame final\n",
    "merged_df"
   ]
  },
  {
   "cell_type": "code",
   "execution_count": null,
   "metadata": {},
   "outputs": [],
   "source": [
    "# Remover espaços no início e no final dos nomes das colunas\n",
    "merged_df.columns = merged_df.columns.str.strip()\n",
    "\n",
    "# Adicionalmente, se desejar substituir múltiplos espaços internos por um único espaço ou removê-los completamente\n",
    "merged_df.columns = merged_df.columns.str.replace(r'\\s+', '', regex=True)  # Substitui múltiplos espaços por um único espaço\n",
    "\n",
    "# Opcionalmente, se desejar remover todos os espaços nos nomes das colunas\n",
    "# merged_df.columns = merged_df.columns.str.replace(' ', '')\n",
    "\n",
    "# Imprimir os nomes das colunas atualizados\n",
    "print(merged_df.columns.tolist())\n"
   ]
  },
  {
   "cell_type": "code",
   "execution_count": null,
   "metadata": {},
   "outputs": [],
   "source": [
    "column_list = merged_df.columns.tolist()\n",
    "column_list"
   ]
  },
  {
   "cell_type": "markdown",
   "metadata": {},
   "source": [
    "## Classificação Binária de Falha"
   ]
  },
  {
   "cell_type": "code",
   "execution_count": null,
   "metadata": {},
   "outputs": [],
   "source": [
    "# Features a serem usadas para previsão\n",
    "features = ['unique_names', '1_status_10', '2_status_10', '718_status_10', '1_status_13', '2_status_13', '718_status_13', '_unit_count', '%_unit_count', 'Clicks_unit_count', 'Deg_unit_count', 'Grad_unit_count', 'Nm_unit_count', 'Unnamed:5_unit_count', 'V_unit_count', 'kg_unit_count', 'min_unit_count', 'mm_unit_count', '_unit_mean', '%_unit_mean', 'Clicks_unit_mean', 'Deg_unit_mean', 'Grad_unit_mean', 'Nm_unit_mean', 'Unnamed:5_unit_mean', 'V_unit_mean', 'kg_unit_mean', 'min_unit_mean', 'mm_unit_mean']\n",
    "target = 'FALHA'\n",
    "\n",
    "# Selecionando as features e a variável alvo do DataFrame unificado\n",
    "X = merged_df[features]\n",
    "y = merged_df[target].values\n",
    "\n",
    "# Garantir que `y` seja um array 1D com valores binários (0, 1)\n",
    "y = y.reshape(-1)  # Achatar para garantir que seja um array 1D\n",
    "\n",
    "# Dividir os dados em conjuntos de treino e teste\n",
    "X_train, X_test, y_train, y_test = train_test_split(X, y, test_size=0.2, random_state=42)\n",
    "\n",
    "# Normalizar as features\n",
    "scaler = StandardScaler()\n",
    "X_train_scaled = scaler.fit_transform(X_train)\n",
    "X_test_scaled = scaler.transform(X_test)\n",
    "\n",
    "# Construir o modelo de rede neural Keras\n",
    "model = Sequential([\n",
    "    Dense(16, activation='relu', input_shape=(X_train_scaled.shape[1],)),\n",
    "    Dense(8, activation='relu'),\n",
    "    Dense(1, activation='sigmoid')\n",
    "])\n",
    "\n",
    "# Compilar o modelo\n",
    "model.compile(optimizer='adam', loss='binary_crossentropy', metrics=['accuracy'])\n",
    "\n",
    "# Treinar o modelo\n",
    "model.fit(X_train_scaled, y_train, epochs=500, batch_size=16, validation_split=0.2)\n",
    "\n",
    "# Avaliar o modelo no conjunto de teste\n",
    "test_loss, test_acc = model.evaluate(X_test_scaled, y_test)\n",
    "print(f'Acurácia no Teste: {test_acc:.4f}')\n"
   ]
  },
  {
   "cell_type": "markdown",
   "metadata": {},
   "source": [
    "# Classificação Binária com LSTM\n"
   ]
  },
  {
   "cell_type": "code",
   "execution_count": null,
   "metadata": {},
   "outputs": [],
   "source": [
    "from tensorflow.keras.models import Sequential\n",
    "from tensorflow.keras.layers import LSTM, Dense\n",
    "from sklearn.model_selection import train_test_split\n",
    "from sklearn.preprocessing import StandardScaler\n",
    "\n",
    "# Features e alvo\n",
    "features = ['unique_names', '1_status_10', '2_status_10', '718_status_10', '1_status_13', '2_status_13', '718_status_13',\n",
    "            '_unit_count', '%_unit_count', 'Clicks_unit_count', 'Deg_unit_count', 'Grad_unit_count', 'Nm_unit_count',\n",
    "            'Unnamed:5_unit_count', 'V_unit_count', 'kg_unit_count', 'min_unit_count', 'mm_unit_count', '_unit_mean',\n",
    "            '%_unit_mean', 'Clicks_unit_mean', 'Deg_unit_mean', 'Grad_unit_mean', 'Nm_unit_mean', 'Unnamed:5_unit_mean',\n",
    "            'V_unit_mean', 'kg_unit_mean', 'min_unit_mean', 'mm_unit_mean']\n",
    "\n",
    "target = 'FALHA'\n",
    "\n",
    "# Seleciona as features e o alvo do DataFrame\n",
    "X = merged_df[features]\n",
    "y = merged_df[target].values\n",
    "\n",
    "# Garante que `y` seja um array unidimensional\n",
    "y = y.reshape(-1)\n",
    "\n",
    "# Divide os dados em conjuntos de treinamento e teste\n",
    "X_train, X_test, y_train, y_test = train_test_split(X, y, test_size=0.2, random_state=42)\n",
    "\n",
    "# Normaliza as features\n",
    "scaler = StandardScaler()\n",
    "X_train_scaled = scaler.fit_transform(X_train)\n",
    "X_test_scaled = scaler.transform(X_test)\n",
    "\n",
    "# Ajusta X_train e X_test para atender ao requisito de entrada do LSTM (amostras, timesteps, features)\n",
    "# Como não temos dados de séries temporais ou sequenciais, usaremos 1 timestep\n",
    "X_train_scaled = X_train_scaled.reshape((X_train_scaled.shape[0], 1, X_train_scaled.shape[1]))\n",
    "X_test_scaled = X_test_scaled.reshape((X_test_scaled.shape[0], 1, X_test_scaled.shape[1]))\n",
    "\n",
    "# Construa o modelo LSTM\n",
    "model = Sequential([\n",
    "    LSTM(32, activation='relu', input_shape=(X_train_scaled.shape[1], X_train_scaled.shape[2])),  # Camada LSTM\n",
    "    Dense(8, activation='relu'),  # Adiciona uma camada Dense como camada oculta\n",
    "    Dense(1, activation='sigmoid')  # Camada de saída para classificação binária\n",
    "])\n",
    "\n",
    "# Compile o modelo\n",
    "model.compile(optimizer='adam', loss='binary_crossentropy', metrics=['accuracy'])\n",
    "\n",
    "# Treine o modelo\n",
    "model.fit(X_train_scaled, y_train, epochs=500, batch_size=16, validation_split=0.2)\n",
    "\n",
    "# Avalie o modelo no conjunto de teste\n",
    "test_loss, test_acc = model.evaluate(X_test_scaled, y_test)\n",
    "print(f'Acurácia no Teste: {test_acc:.4f}')\n"
   ]
  },
  {
   "cell_type": "code",
   "execution_count": 25,
   "metadata": {},
   "outputs": [
    {
     "name": "stdout",
     "output_type": "stream",
     "text": [
      "\u001b[1m308/308\u001b[0m \u001b[32m━━━━━━━━━━━━━━━━━━━━\u001b[0m\u001b[37m\u001b[0m \u001b[1m0s\u001b[0m 444us/step\n"
     ]
    },
    {
     "data": {
      "image/png": "[encoded data removed]",
      "text/plain": [
       "<Figure size 640x480 with 2 Axes>"
      ]
     },
     "metadata": {},
     "output_type": "display_data"
    },
    {
     "name": "stdout",
     "output_type": "stream",
     "text": [
      "Recall: 0.9766\n"
     ]
    }
   ],
   "source": [
    "# Realizar previsões no conjunto de teste\n",
    "y_pred = (model.predict(X_test_scaled) > 0.5).astype(\"int32\")\n",
    "\n",
    "# Calcular a matriz de confusão\n",
    "cm = confusion_matrix(y_test, y_pred)\n",
    "\n",
    "# Exibir a matriz de confusão\n",
    "sns.heatmap(cm, annot=True, fmt='d', cmap='Blues')\n",
    "plt.xlabel('Previsto')\n",
    "plt.ylabel('Real')\n",
    "plt.title('Matriz de Confusão')\n",
    "plt.show()\n",
    "\n",
    "# Calcular o recall\n",
    "recall = recall_score(y_test, y_pred)\n",
    "print(f'Recall: {recall:.4f}')\n"
   ]
  },
  {
   "cell_type": "code",
   "execution_count": 26,
   "metadata": {},
   "outputs": [
    {
     "name": "stdout",
     "output_type": "stream",
     "text": [
      "\u001b[1m1230/1230\u001b[0m \u001b[32m━━━━━━━━━━━━━━━━━━━━\u001b[0m\u001b[37m\u001b[0m \u001b[1m0s\u001b[0m 267us/step - accuracy: 0.9674 - loss: 0.0838\n",
      "Training Accuracy: 0.9635\n",
      "\u001b[1m308/308\u001b[0m \u001b[32m━━━━━━━━━━━━━━━━━━━━\u001b[0m\u001b[37m\u001b[0m \u001b[1m0s\u001b[0m 275us/step - accuracy: 0.9511 - loss: 0.2879\n",
      "Test Accuracy: 0.9515\n"
     ]
    }
   ],
   "source": [
    "# Avalie no conjunto de treinamento\n",
    "train_loss, train_acc = model.evaluate(X_train_scaled, y_train)\n",
    "print(f'Acurácia no Treinamento: {train_acc:.4f}')\n",
    "\n",
    "# Avalie no conjunto de teste\n",
    "test_loss, test_acc = model.evaluate(X_test_scaled, y_test)\n",
    "print(f'Acurácia no Teste: {test_acc:.4f}')\n"
   ]
  },
  {
   "cell_type": "markdown",
   "metadata": {},
   "source": [
    "## Classificação Binária para cada S_GROUP_ID\n"
   ]
  },
  {
   "cell_type": "code",
   "execution_count": null,
   "metadata": {},
   "outputs": [],
   "source": [
    "merges_s_group = pd.merge(final_result, falhas_grouped, on='KNR', how='inner')\n",
    "merges_s_group"
   ]
  },
  {
   "cell_type": "code",
   "execution_count": null,
   "metadata": {},
   "outputs": [],
   "source": [
    "# Features a serem usadas para previsão\n",
    "features = ['unique_names', '1_status_10', '2_status_10', '718_status_10', '1_status_13', '2_status_13', '718_status_13', '_unit_count', '%_unit_count', 'Clicks_unit_count', 'Deg_unit_count', 'Grad_unit_count', 'Nm_unit_count', 'Unnamed:5_unit_count', 'V_unit_count', 'kg_unit_count', 'min_unit_count', 'mm_unit_count', '_unit_mean', '%_unit_mean', 'Clicks_unit_mean', 'Deg_unit_mean', 'Grad_unit_mean', 'Nm_unit_mean', 'Unnamed:5_unit_mean', 'V_unit_mean', 'kg_unit_mean', 'min_unit_mean', 'mm_unit_mean']\n",
    "targets = ['S_GROUP_ID_-2', 'S_GROUP_ID_1', 'S_GROUP_ID_2', 'S_GROUP_ID_4', 'S_GROUP_ID_5', 'S_GROUP_ID_133', 'S_GROUP_ID_137', 'S_GROUP_ID_140', 'S_GROUP_ID_9830946', 'S_GROUP_ID_#MULTIVALUE', 'S_GROUP_ID_-2', 'S_GROUP_ID_1', 'S_GROUP_ID_133', 'S_GROUP_ID_137', 'S_GROUP_ID_140', 'S_GROUP_ID_2', 'S_GROUP_ID_4', 'S_GROUP_ID_5', 'S_GROUP_ID_9830946']\n",
    "\n",
    "# Garante que as features e os alvos existem e não têm valores ausentes\n",
    "for target in targets:\n",
    "    # Verifica se a coluna do alvo existe no DataFrame\n",
    "    if target not in merged_df.columns:\n",
    "        print(f\"Coluna do alvo {target} não encontrada no DataFrame.\")\n",
    "        continue\n",
    "\n",
    "    # Seleciona as features e a coluna do alvo\n",
    "    X = merged_df[features]\n",
    "    y = merged_df[target]\n",
    "\n",
    "    # Remove as linhas onde X ou y têm valores NaN\n",
    "    Xy = pd.concat([X, y], axis=1).dropna()\n",
    "\n",
    "    # Agora separa X e y após remover as linhas com valores NaN\n",
    "    X_cleaned = Xy[features]\n",
    "    y_cleaned = Xy[target].values\n",
    "\n",
    "    # Garante que `y_cleaned` seja um array unidimensional\n",
    "    y_cleaned = y_cleaned.reshape(-1)\n",
    "\n",
    "    # Verifica se o número de linhas é consistente antes de prosseguir\n",
    "    if len(X_cleaned) != len(y_cleaned):\n",
    "        print(f\"Número inconsistente de amostras para o alvo {target}. Pulando este alvo.\")\n",
    "        continue\n",
    "\n",
    "    # Divide os dados em conjuntos de treino e teste\n",
    "    X_train, X_test, y_train, y_test = train_test_split(X_cleaned, y_cleaned, test_size=0.2, random_state=42)\n",
    "\n",
    "    # Normaliza as features\n",
    "    scaler = StandardScaler()\n",
    "    X_train_scaled = scaler.fit_transform(X_train)\n",
    "    X_test_scaled = scaler.transform(X_test)\n",
    "\n",
    "    # Construa o modelo de rede neural\n",
    "    model = Sequential([\n",
    "        Dense(16, activation='relu', input_shape=(X_train_scaled.shape[1],)),\n",
    "        Dense(8, activation='relu'),\n",
    "        Dense(1, activation='sigmoid')\n",
    "    ])\n",
    "\n",
    "    # Compile o modelo\n",
    "    model.compile(optimizer='adam', loss='binary_crossentropy', metrics=['accuracy'])\n",
    "\n",
    "    # Treine o modelo\n",
    "    model.fit(X_train_scaled, y_train, epochs=500, batch_size=16, validation_split=0.2)\n",
    "\n",
    "    # Avalie o modelo no conjunto de teste\n",
    "    test_loss, test_acc = model.evaluate(X_test_scaled, y_test)\n",
    "    print(f\"Acurácia no Teste para {target}: {test_acc:.4f}\")"
   ]
  },
  {
   "cell_type": "code",
   "execution_count": null,
   "metadata": {},
   "outputs": [],
   "source": [
    "model.save('/caminho_completo/modelo_lstm_falha.h5')"
   ]
  }
 ],
 "metadata": {
  "kernelspec": {
   "display_name": "Python 3 (ipykernel)",
   "language": "python",
   "name": "python3"
  },
  "language_info": {
   "codemirror_mode": {
    "name": "ipython",
    "version": 3
   },
   "file_extension": ".py",
   "mimetype": "text/x-python",
   "name": "python",
   "nbconvert_exporter": "python",
   "pygments_lexer": "ipython3",
   "version": "3.10.12"
  }
 },
 "nbformat": 4,
 "nbformat_minor": 4
}
